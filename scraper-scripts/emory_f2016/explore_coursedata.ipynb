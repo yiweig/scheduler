{
 "cells": [
  {
   "cell_type": "code",
   "execution_count": 1,
   "metadata": {
    "collapsed": false
   },
   "outputs": [],
   "source": [
    "import json\n",
    "with open('result_coursedata.json') as data_file:\n",
    "    data = json.load(data_file)\n"
   ]
  },
  {
   "cell_type": "code",
   "execution_count": 2,
   "metadata": {
    "collapsed": false
   },
   "outputs": [
    {
     "data": {
      "text/plain": [
       "list"
      ]
     },
     "execution_count": 2,
     "metadata": {},
     "output_type": "execute_result"
    }
   ],
   "source": [
    "type(data)"
   ]
  },
  {
   "cell_type": "code",
   "execution_count": 3,
   "metadata": {
    "collapsed": false
   },
   "outputs": [
    {
     "name": "stdout",
     "output_type": "stream",
     "text": [
      "{'Descriptions': 'Variable topics\\n'\n",
      "                 'Course looks at experiences of African peoples through film '\n",
      "                 '(feature and documentary) in Africa and throughout the '\n",
      "                 'Diaspora',\n",
      " 'Grading': 'none',\n",
      " 'Related Courses': 'HIST190-002',\n",
      " 'Textbooks, Articles, and Resources': 'none',\n",
      " 'credit': '3',\n",
      " 'ger': 'FSEM',\n",
      " 'name': 'AAS190-000: Fresh Sem: Africn Amer Studies',\n",
      " 'notes': 'Appropriate for First Year students.',\n",
      " 'opus_number': '2127',\n",
      " 'schedule': [{'days': 'Tu',\n",
      "               'instructor': 'Davis Jr., Leroy',\n",
      "               'time': '4:00pm - 6:30pm'}],\n",
      " 'topic': 'Transnational Blk. Exp.on Film'}\n"
     ]
    }
   ],
   "source": [
    "from collections import Counter\n",
    "from pprint import pprint\n",
    "test_section = data[1]\n",
    "pprint(test_section)\n",
    "    "
   ]
  },
  {
   "cell_type": "code",
   "execution_count": 4,
   "metadata": {
    "collapsed": false
   },
   "outputs": [],
   "source": [
    "from collections import Counter\n",
    "GERs = []\n",
    "for section in data:\n",
    "   GERs.append(section['ger']) "
   ]
  },
  {
   "cell_type": "code",
   "execution_count": 5,
   "metadata": {
    "collapsed": false
   },
   "outputs": [
    {
     "name": "stdout",
     "output_type": "stream",
     "text": [
      "Number of Courses per GER type\n",
      "------------------------------\n",
      "none : 578\n",
      "Science, Nature, Technology Lab with Writing : 2\n",
      "Principles of Physical Fitness : 23\n",
      "Math & Quantitative Reasoning with Writing : 1\n",
      "Continuing Writing : 67\n",
      "Humanities, Arts, Performance : 122\n",
      "Personal Health : 73\n",
      "Humanities, Arts, Language with Writing : 16\n",
      "First-Year Seminar : 77\n",
      "Science, Nature, Technology Lab : 36\n",
      "Science, Nature, Technology : 51\n",
      "Math & Quantitative Reasoning : 105\n",
      "History, Societies, Cultures : 174\n",
      "Humanities, Arts, Language : 156\n",
      "Physical Education and Dance : 50\n",
      "First-Year Writing : 24\n",
      "Humanities, Arts, Performance with Writing : 87\n",
      "History, Societies, Cultures with Writing : 54\n",
      "Science, Nature, Technology with Writing : 10\n"
     ]
    }
   ],
   "source": [
    "count = Counter(GERs)\n",
    "acr_to_full = {\n",
    "    ''     : 'none',\n",
    "    'FSEM' : 'First-Year Seminar',\n",
    "    'FWRT' : 'First-Year Writing',\n",
    "    'HAL'  : 'Humanities, Arts, Language',\n",
    "    'HALW' : 'Humanities, Arts, Language with Writing',\n",
    "    'HAP'  : 'Humanities, Arts, Performance',\n",
    "    'HAPW' : 'Humanities, Arts, Performance with Writing',\n",
    "    'HSC'  : 'History, Societies, Cultures',\n",
    "    'HSCW' : 'History, Societies, Cultures with Writing',\n",
    "    'HTH'  : 'Personal Health',\n",
    "    'MQR'  : 'Math & Quantitative Reasoning',\n",
    "    'MQRW' : 'Math & Quantitative Reasoning with Writing',\n",
    "    'PED'  : 'Physical Education and Dance',\n",
    "    'PPF'  : 'Principles of Physical Fitness',\n",
    "    'SNLW' : 'Science, Nature, Technology Lab with Writing',\n",
    "    'SNT'  : 'Science, Nature, Technology',\n",
    "    'SNTL' : 'Science, Nature, Technology Lab', \n",
    "    'SNTW' : 'Science, Nature, Technology with Writing',\n",
    "    'WRT'  : 'Continuing Writing'\n",
    "}\n",
    "\n",
    "\n",
    "print('Number of Courses per GER type')\n",
    "print('------------------------------')\n",
    "for key, value in count.items():\n",
    "    print(acr_to_full[key], ':', value)\n",
    "    "
   ]
  },
  {
   "cell_type": "code",
   "execution_count": 6,
   "metadata": {
    "collapsed": false
   },
   "outputs": [],
   "source": [
    "#SNTL_SNLW = []\n",
    "#for section in data:\n",
    "#    if section['ger'] == ('SNTL' or 'SNLW'):\n",
    "#        SNTL_SNLW.append(section)\n",
    "#\n",
    "#for section in SNTL_SNLW:\n",
    "#    print(section['name'])"
   ]
  },
  {
   "cell_type": "code",
   "execution_count": 7,
   "metadata": {
    "collapsed": false
   },
   "outputs": [
    {
     "name": "stdout",
     "output_type": "stream",
     "text": [
      "['MQRW', 'WRT', 'HALW', 'HSCW', 'SNLW', 'FWRT', 'HAPW', 'SNTW']\n"
     ]
    }
   ],
   "source": [
    "writing = []\n",
    "for key in acr_to_full:\n",
    "    if 'W' in key:\n",
    "        writing.append(key)\n",
    "        \n",
    "print(writing)"
   ]
  },
  {
   "cell_type": "code",
   "execution_count": 8,
   "metadata": {
    "collapsed": false
   },
   "outputs": [
    {
     "name": "stdout",
     "output_type": "stream",
     "text": [
      "261\n"
     ]
    }
   ],
   "source": [
    "w_count = 0\n",
    "for section in data:\n",
    "    if section['ger'] in writing:\n",
    "        w_count = w_count + 1\n",
    "        #print section['name']\n",
    "\n",
    "print(w_count)"
   ]
  },
  {
   "cell_type": "code",
   "execution_count": null,
   "metadata": {
    "collapsed": true
   },
   "outputs": [],
   "source": []
  }
 ],
 "metadata": {
  "kernelspec": {
   "display_name": "Python 3",
   "language": "python",
   "name": "python3"
  },
  "language_info": {
   "codemirror_mode": {
    "name": "ipython",
    "version": 3
   },
   "file_extension": ".py",
   "mimetype": "text/x-python",
   "name": "python",
   "nbconvert_exporter": "python",
   "pygments_lexer": "ipython3",
   "version": "3.5.1"
  }
 },
 "nbformat": 4,
 "nbformat_minor": 0
}
